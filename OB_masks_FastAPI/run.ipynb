{
 "cells": [
  {
   "cell_type": "code",
   "execution_count": null,
   "metadata": {},
   "outputs": [],
   "source": [
    "import ob_masks_fmdeploy_errors as script\n",
    "\n",
    "modelpaths = [\n",
    "    {\n",
    "        \"name\": \"modelo_CNN_R_treinado_v4_174x190.h5\",\n",
    "        \"path\": \"./modelfiles/modelo_CNN_R_treinado_v4_174x190.h5\"\n",
    "    },\n",
    "    {\n",
    "        \"name\": \"modelo_CNN_treinado_v4.h5\",\n",
    "        \"path\": \"./modelfiles/modelo_CNN_treinado_v4.h5\"\n",
    "    },\n",
    "    {\n",
    "        \"name\": \"modelo_FCN_segmentation_32x32.h5\",\n",
    "        \"path\": \"./modelfiles/modelo_FCN_segmentation_32x32.h5\"\n",
    "    }\n",
    "]\n",
    "\n",
    "input_file_path = \"./input/00912_005.nii.gz\"\n",
    "output_directory_path = \"./output/\"\n",
    "output_file_name = \"00912_005_masks.nii.gz\"\n",
    "\n"
   ]
  },
  {
   "cell_type": "code",
   "execution_count": null,
   "metadata": {},
   "outputs": [],
   "source": [
    "import logging\n",
    "\n",
    "try:\n",
    "    print(\"LOAD MODELS:\", script.load_models(modelpaths))\n",
    "    print(\"RUN:\", script.run(input_file_path, output_file_name, output_directory_path))\n",
    "    script.run(input_file_path, output_file_name, output_directory_path)\n",
    "except:\n",
    "    logging.exception(\"load models error: \")\n"
   ]
  },
  {
   "cell_type": "code",
   "execution_count": null,
   "metadata": {},
   "outputs": [],
   "source": [
    "import ob_masks_deploy\n",
    "from importlib import reload  "
   ]
  },
  {
   "cell_type": "code",
   "execution_count": null,
   "metadata": {},
   "outputs": [],
   "source": [
    "import importlib\n",
    "\n",
    "script = importlib.import_module(ob_masks_deploy)\n",
    "\n",
    "try: \n",
    "    script.load_models(modelpaths, input_file_path, output_file_name, output_directory_path)\n",
    "except:\n",
    "    logging.exception(\"load models error: \")"
   ]
  },
  {
   "cell_type": "code",
   "execution_count": null,
   "metadata": {},
   "outputs": [],
   "source": [
    "import logging\n",
    "reload(ob_masks_deploy)\n",
    "\n",
    "try: \n",
    "    ob_masks_deploy.load_models(modelpaths, input_file_path, output_file_name, output_directory_path)\n",
    "except:\n",
    "    logging.exception(\"load models error: \")\n"
   ]
  },
  {
   "cell_type": "code",
   "execution_count": null,
   "metadata": {},
   "outputs": [],
   "source": [
    "\n",
    "reload(ob_masks_deploy)\n",
    "\n",
    "ob_masks_deploy.load_models(modelpaths, input_file_path, output_file_name, output_directory_path)\n"
   ]
  },
  {
   "cell_type": "code",
   "execution_count": null,
   "metadata": {},
   "outputs": [],
   "source": [
    "ob_masks_deploy.run(input_file_path, output_file_name, output_directory_path)"
   ]
  },
  {
   "cell_type": "code",
   "execution_count": null,
   "metadata": {},
   "outputs": [],
   "source": []
  }
 ],
 "metadata": {
  "interpreter": {
   "hash": "05bef9d971d5fd6ab2dbb8727fce6bb3a28110b61733f2338380c774c974fd06"
  },
  "kernelspec": {
   "display_name": "Python 3.7.7 64-bit ('env': venv)",
   "name": "python3"
  },
  "language_info": {
   "codemirror_mode": {
    "name": "ipython",
    "version": 3
   },
   "file_extension": ".py",
   "mimetype": "text/x-python",
   "name": "python",
   "nbconvert_exporter": "python",
   "pygments_lexer": "ipython3",
   "version": "3.7.7"
  },
  "orig_nbformat": 4
 },
 "nbformat": 4,
 "nbformat_minor": 2
}
